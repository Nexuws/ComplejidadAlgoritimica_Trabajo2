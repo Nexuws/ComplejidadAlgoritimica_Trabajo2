{
  "nbformat": 4,
  "nbformat_minor": 0,
  "metadata": {
    "colab": {
      "name": "ComplejidadAlgoritimica_Trabajo2 .ipynb",
      "provenance": []
    },
    "kernelspec": {
      "name": "python3",
      "display_name": "Python 3"
    },
    "language_info": {
      "name": "python"
    }
  },
  "cells": [
    {
      "cell_type": "markdown",
      "source": [
        "# **Complejidad Algorítmica**"
      ],
      "metadata": {
        "id": "A6zPBXUAxYr8"
      }
    },
    {
      "cell_type": "markdown",
      "source": [
        "**Medicion Temporal**"
      ],
      "metadata": {
        "id": "gkGCaVE7us0u"
      }
    },
    {
      "cell_type": "code",
      "execution_count": 1,
      "metadata": {
        "colab": {
          "base_uri": "https://localhost:8080/"
        },
        "id": "NHqjkUMJundt",
        "outputId": "52940de6-20d3-4c1e-9ba2-ab5b6881db24"
      },
      "outputs": [
        {
          "output_type": "stream",
          "name": "stdout",
          "text": [
            "17.246548891067505\n",
            "15.658539533615112\n"
          ]
        }
      ],
      "source": [
        "import time\n",
        "\n",
        "def factorial(n):\n",
        "    respuesta = 1\n",
        "\n",
        "    while n > 1:\n",
        "        respuesta *= n\n",
        "        n -= 1\n",
        "\n",
        "    return respuesta\n",
        "\n",
        "\n",
        "def factorial_r(n):\n",
        "    if n == 1:\n",
        "        return 1\n",
        "\n",
        "    return n * factorial(n - 1)\n",
        "\n",
        "\n",
        "if __name__ == '__main__':\n",
        "    n = 200000\n",
        "\n",
        "    comienzo = time.time()\n",
        "    factorial(n)\n",
        "    final = time.time()\n",
        "    print(final - comienzo)\n",
        "\n",
        "    comienzo = time.time()\n",
        "    factorial_r(n)\n",
        "    final = time.time()\n",
        "    print(final - comienzo)"
      ]
    },
    {
      "cell_type": "markdown",
      "source": [
        "**Conteo abstracto de operación**"
      ],
      "metadata": {
        "id": "opKiicGxuuE2"
      }
    },
    {
      "cell_type": "code",
      "source": [
        "def f(x):\n",
        "\n",
        "    respuesta = 0\n",
        "\n",
        "    for i in range(1000):\n",
        "        respuesta += 1\n",
        "\n",
        "    for i in range(x):\n",
        "        respuesta += x\n",
        "\n",
        "    for i in range(x):\n",
        "        for j in range(x):\n",
        "            respuesta += 1\n",
        "            respuesta += 1\n",
        "\n",
        "    return respuesta"
      ],
      "metadata": {
        "id": "tcb_-uqPuu-e"
      },
      "execution_count": 2,
      "outputs": []
    },
    {
      "cell_type": "markdown",
      "source": [
        "**Notacion Asintotica**"
      ],
      "metadata": {
        "id": "uYCgrtJsuvT-"
      }
    },
    {
      "cell_type": "code",
      "source": [
        "# Ley de la suma\n",
        "\n",
        "def f(n):\n",
        "    for i in range(n):\n",
        "        print(i)\n",
        "\n",
        "    for i in range(n):\n",
        "        print(i)\n",
        "\n",
        "# En este caso el mayor término es n\n",
        "# O(n) + O(n) = O(n + n) = O(2n) = O(n)"
      ],
      "metadata": {
        "id": "0FJBNH4wuvqX"
      },
      "execution_count": 3,
      "outputs": []
    },
    {
      "cell_type": "code",
      "source": [
        "# Ley de la suma\n",
        "\n",
        "def f(n):\n",
        "    for i in range(n):\n",
        "        print(i)\n",
        "\n",
        "    for i in range(n * n):\n",
        "        print(i)\n",
        "\n",
        "# En este caso el mayor término es n²\n",
        "# O(n) + O(n * n) = O(n + n²) = O(n²)"
      ],
      "metadata": {
        "id": "i25-3yckwflc"
      },
      "execution_count": 4,
      "outputs": []
    },
    {
      "cell_type": "code",
      "source": [
        "# Ley de la multiplicación\n",
        "\n",
        "def f(n):\n",
        "\n",
        "    for i in range(n):\n",
        "\n",
        "        for i in range(n):\n",
        "            print(i, j)\n",
        "\n",
        "# En este caso el mayor término es n²\n",
        "# O(n) + O(n * n) = O(n * n) = O(n²)"
      ],
      "metadata": {
        "id": "4VaQMduIwmfz"
      },
      "execution_count": 5,
      "outputs": []
    },
    {
      "cell_type": "code",
      "source": [
        "# Recursividad múltiple\n",
        "\n",
        "def fibonacci(n):\n",
        "\n",
        "    if n == 0 or n == 1:\n",
        "        return 1\n",
        "\n",
        "    return fibonacci(n - 1) +  fibonacci(n - 2)\n",
        "\n",
        "# En este caso el mayor término es 2**n (el símbolo ** denota \"elevado a\"),\n",
        "# ya que realiza recursividad 2 veces por n veces.\n",
        "# O(2**n)"
      ],
      "metadata": {
        "id": "JB8uo4OwwnfD"
      },
      "execution_count": 6,
      "outputs": []
    },
    {
      "cell_type": "markdown",
      "source": [
        "# **Algoritmos de búsqueda y ordenación**"
      ],
      "metadata": {
        "id": "_CWtU5Gguvz-"
      }
    },
    {
      "cell_type": "markdown",
      "source": [
        "**Búsqueda lineal**"
      ],
      "metadata": {
        "id": "U5S2CX7bxkfj"
      }
    },
    {
      "cell_type": "code",
      "source": [
        "import random\n",
        "\n",
        "def busqueda_lineal(lista, objetivo):\n",
        "    match = False\n",
        "\n",
        "    for elemento in lista: # O(n)\n",
        "        if elemento == objetivo:\n",
        "            match = True\n",
        "            break\n",
        "\n",
        "    return match\n",
        "\n",
        "\n",
        "if __name__ == '__main__':\n",
        "    tamano_de_lista = int(input('De que tamano sera la lista? '))\n",
        "    objetivo = int(input('Que numero quieres encontrar? '))\n",
        "\n",
        "    lista = [random.randint(0, 100) for i in range(tamano_de_lista)]\n",
        "\n",
        "    encontrado = busqueda_lineal(lista, objetivo)\n",
        "    print(lista)\n",
        "    print(f'El elemento {objetivo} {\"esta\" if encontrado else \"no esta\"} en la lista')"
      ],
      "metadata": {
        "colab": {
          "base_uri": "https://localhost:8080/"
        },
        "id": "E7RzgSFgxlta",
        "outputId": "a1e6874c-26d6-4154-ee1a-aa4f5c0f6191"
      },
      "execution_count": 7,
      "outputs": [
        {
          "output_type": "stream",
          "name": "stdout",
          "text": [
            "De que tamano sera la lista? 3\n",
            "Que numero quieres encontrar? 5\n",
            "[25, 39, 28]\n",
            "El elemento 5 no esta en la lista\n"
          ]
        }
      ]
    },
    {
      "cell_type": "markdown",
      "source": [
        "**Búsqueda Binaria**"
      ],
      "metadata": {
        "id": "5MlGMd47uwHx"
      }
    },
    {
      "cell_type": "code",
      "source": [
        "import random\n",
        "\n",
        "def busqueda_binaria(lista, comienzo, final, objetivo):\n",
        "    print(f'buscando {objetivo} entre {lista[comienzo]} y {lista[final - 1]}')\n",
        "    if comienzo > final:\n",
        "        return False\n",
        "\n",
        "    medio = (comienzo + final) // 2\n",
        "\n",
        "    if lista[medio] == objetivo:\n",
        "        return True\n",
        "    elif lista[medio] < objetivo:\n",
        "        return busqueda_binaria(lista, medio + 1, final, objetivo)\n",
        "    else:\n",
        "        return busqueda_binaria(lista, comienzo, medio - 1, objetivo)\n",
        "\n",
        "\n",
        "if __name__ == '__main__':\n",
        "    tamano_de_lista = int(input('De que tamano es la lista? '))\n",
        "    objetivo = int(input('Que numero quieres encontrar? '))\n",
        "\n",
        "    lista = sorted([random.randint(0, 100) for i in range(tamano_de_lista)])\n",
        "\n",
        "    encontrado = busqueda_binaria(lista, 0, len(lista), objetivo)\n",
        "\n",
        "    print(lista)\n",
        "    print(f'El elemento {objetivo} {\"esta\" if encontrado else \"no esta\"} en la lista')"
      ],
      "metadata": {
        "colab": {
          "base_uri": "https://localhost:8080/"
        },
        "id": "-0ajW-T2uwQO",
        "outputId": "66a66be5-e629-4d05-c3ae-db20b7294abe"
      },
      "execution_count": 8,
      "outputs": [
        {
          "output_type": "stream",
          "name": "stdout",
          "text": [
            "De que tamano es la lista? 5\n",
            "Que numero quieres encontrar? 2\n",
            "buscando 2 entre 13 y 91\n",
            "buscando 2 entre 13 y 13\n",
            "buscando 2 entre 13 y 52\n",
            "[13, 15, 23, 52, 91]\n",
            "El elemento 2 no esta en la lista\n"
          ]
        }
      ]
    },
    {
      "cell_type": "markdown",
      "source": [
        "**Ordenamiento Burbuja**"
      ],
      "metadata": {
        "id": "t0JGV4JBuwXe"
      }
    },
    {
      "cell_type": "code",
      "source": [
        "import random\n",
        "\n",
        "\n",
        "def ordenamiento_de_burbuja(lista):\n",
        "    n = len(lista)\n",
        "\n",
        "    for i in range(n):\n",
        "        for j in range(0, n - i - 1): # O(n) * O(n) = O(n * n) = O(n**2)\n",
        "\n",
        "            if lista[j] > lista[j + 1]:\n",
        "                lista[j], lista[j + 1] = lista[j + 1], lista[j]\n",
        "\n",
        "    return lista\n",
        "\n",
        "if __name__ == '__main__':\n",
        "    tamano_de_lista = int(input('De que tamano sera la lista? '))\n",
        "\n",
        "    lista = [random.randint(0, 100) for i in range(tamano_de_lista)]\n",
        "    print(lista)\n",
        "\n",
        "    lista_ordenada = ordenamiento_de_burbuja(lista)\n",
        "    print(lista_ordenada)"
      ],
      "metadata": {
        "colab": {
          "base_uri": "https://localhost:8080/"
        },
        "id": "fAg_YjZhuwgF",
        "outputId": "0b6fc933-d26d-4e92-c02e-55705dfc2762"
      },
      "execution_count": 9,
      "outputs": [
        {
          "output_type": "stream",
          "name": "stdout",
          "text": [
            "De que tamano sera la lista? 6\n",
            "[77, 13, 78, 16, 70, 19]\n",
            "[13, 16, 19, 70, 77, 78]\n"
          ]
        }
      ]
    },
    {
      "cell_type": "markdown",
      "source": [
        "**Ordenamiento por inserción**"
      ],
      "metadata": {
        "id": "ryWXME-Kuwo-"
      }
    },
    {
      "cell_type": "code",
      "source": [
        "def ordenamiento_por_insercion(lista):\n",
        "\n",
        "    for indice in range(1, len(lista)):\n",
        "        valor_actual = lista[indice]\n",
        "        posicion_actual = indice\n",
        "\n",
        "        while posicion_actual > 0 and lista[posicion_actual - 1] > valor_actual:\n",
        "            lista[posicion_actual] = lista[posicion_actual - 1]\n",
        "            posicion_actual -= 1\n",
        "\n",
        "        lista[posicion_actual] = valor_actual"
      ],
      "metadata": {
        "id": "RZfgWkhgyI8B"
      },
      "execution_count": 12,
      "outputs": []
    },
    {
      "cell_type": "markdown",
      "source": [
        "**Ordenamiento por mezcla**"
      ],
      "metadata": {
        "id": "j154MpCJyL3a"
      }
    },
    {
      "cell_type": "code",
      "source": [
        "import random\n",
        "\n",
        "def ordenamiento_por_mezcla(lista):\n",
        "    if len(lista) > 1:\n",
        "        medio = len(lista) // 2\n",
        "        izquierda = lista[:medio]\n",
        "        derecha = lista[medio:]\n",
        "        print(izquierda, '*' * 5, derecha)\n",
        "\n",
        "        # llamada recursiva en cada mitad\n",
        "        ordenamiento_por_mezcla(izquierda)\n",
        "        ordenamiento_por_mezcla(derecha)\n",
        "\n",
        "        # Iteradores para recorrer las dos sublistas\n",
        "        i = 0\n",
        "        j = 0\n",
        "        # Iterador para la lista principal\n",
        "        k = 0\n",
        "\n",
        "        while i < len(izquierda) and j < len(derecha):\n",
        "            if izquierda[i] < derecha[j]:\n",
        "                lista[k] = izquierda[i]\n",
        "                i += 1\n",
        "            else:\n",
        "                lista[k] = derecha[j]\n",
        "                j += 1\n",
        "\n",
        "            k += 1\n",
        "\n",
        "        while i < len(izquierda):\n",
        "            lista[k] = izquierda[i]\n",
        "            i += 1\n",
        "            k +=1\n",
        "\n",
        "        while j < len(derecha):\n",
        "            lista[k] = derecha[j]\n",
        "            j += 1\n",
        "            k += 1\n",
        "        \n",
        "        print(f'izquierda {izquierda}, derecha {derecha}')\n",
        "        print(lista)\n",
        "        print('-' * 50)\n",
        "\n",
        "    return lista\n",
        "\n",
        "\n",
        "if __name__ == '__main__':\n",
        "    tamano_de_lista = int(input('De que tamano sera la lista? '))\n",
        "\n",
        "    lista = [random.randint(0, 100) for i in range(tamano_de_lista)]\n",
        "    print(lista)\n",
        "    print('-' * 20)\n",
        "\n",
        "    lista_ordenada = ordenamiento_por_mezcla(lista)\n",
        "    print(lista_ordenada)"
      ],
      "metadata": {
        "colab": {
          "base_uri": "https://localhost:8080/"
        },
        "id": "BNnkHRrWyMg0",
        "outputId": "90110148-b96d-40c8-a558-ed9a31f647c0"
      },
      "execution_count": 13,
      "outputs": [
        {
          "output_type": "stream",
          "name": "stdout",
          "text": [
            "De que tamano sera la lista? 6\n",
            "[4, 44, 94, 48, 87, 8]\n",
            "--------------------\n",
            "[4, 44, 94] ***** [48, 87, 8]\n",
            "[4] ***** [44, 94]\n",
            "[44] ***** [94]\n",
            "izquierda [44], derecha [94]\n",
            "[44, 94]\n",
            "--------------------------------------------------\n",
            "izquierda [4], derecha [44, 94]\n",
            "[4, 44, 94]\n",
            "--------------------------------------------------\n",
            "[48] ***** [87, 8]\n",
            "[87] ***** [8]\n",
            "izquierda [87], derecha [8]\n",
            "[8, 87]\n",
            "--------------------------------------------------\n",
            "izquierda [48], derecha [8, 87]\n",
            "[8, 48, 87]\n",
            "--------------------------------------------------\n",
            "izquierda [4, 44, 94], derecha [8, 48, 87]\n",
            "[4, 8, 44, 48, 87, 94]\n",
            "--------------------------------------------------\n",
            "[4, 8, 44, 48, 87, 94]\n"
          ]
        }
      ]
    }
  ]
}